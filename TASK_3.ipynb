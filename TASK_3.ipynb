{
  "nbformat": 4,
  "nbformat_minor": 0,
  "metadata": {
    "colab": {
      "provenance": [],
      "include_colab_link": true
    },
    "kernelspec": {
      "name": "python3",
      "display_name": "Python 3"
    },
    "language_info": {
      "name": "python"
    }
  },
  "cells": [
    {
      "cell_type": "markdown",
      "metadata": {
        "id": "view-in-github",
        "colab_type": "text"
      },
      "source": [
        "<a href=\"https://colab.research.google.com/github/ashiqu-ali/Learn.py/blob/main/TASK_3.ipynb\" target=\"_parent\"><img src=\"https://colab.research.google.com/assets/colab-badge.svg\" alt=\"Open In Colab\"/></a>"
      ]
    },
    {
      "cell_type": "markdown",
      "metadata": {
        "id": "z20IIB0eUQMN"
      },
      "source": [
        "1 - Write a program which takes a number as input from the user and check whether the number is odd or even.If odd print the number is odd if not print it is even."
      ]
    },
    {
      "cell_type": "code",
      "metadata": {
        "id": "dVgGJ-wTVRit",
        "outputId": "db7792df-658a-46ed-fdfa-176050e86358",
        "colab": {
          "base_uri": "https://localhost:8080/"
        }
      },
      "source": [
        "a=int(input(\"Enter a Number :\"))\n",
        "if (a%2==0):\n",
        "  print(\"Even Number\")\n",
        "else :\n",
        "  print(\"Odd Number\")"
      ],
      "execution_count": 1,
      "outputs": [
        {
          "output_type": "stream",
          "name": "stdout",
          "text": [
            "Enter a Number :5\n",
            "Odd Number\n"
          ]
        }
      ]
    },
    {
      "cell_type": "markdown",
      "metadata": {
        "id": "7778XD8PVblj"
      },
      "source": [
        "2 -Write a program to find the largest among three numbers and print the largest number."
      ]
    },
    {
      "cell_type": "code",
      "metadata": {
        "id": "m0tUOkOFWR-d",
        "outputId": "6eeb5d99-757e-43bd-bcf5-ffee162e7c28",
        "colab": {
          "base_uri": "https://localhost:8080/"
        }
      },
      "source": [
        "a=int(input(\"Enter a Number :\"))\n",
        "b=int(input(\"Enter a Number :\"))\n",
        "c=int(input(\"Enter a Number :\"))\n",
        "if(a>b) and (a>c):\n",
        "  largest=a\n",
        "elif (b>a) and (b>c):\n",
        "  largest=b\n",
        "else:\n",
        "  largest=c\n",
        "\n",
        "print(\"Largest Number is :\",largest)"
      ],
      "execution_count": 3,
      "outputs": [
        {
          "output_type": "stream",
          "name": "stdout",
          "text": [
            "Enter a Number :5\n",
            "Enter a Number :6\n",
            "Enter a Number :4\n",
            "Largest Number is : 6\n"
          ]
        }
      ]
    },
    {
      "cell_type": "markdown",
      "metadata": {
        "id": "Jg2Ns4OQWaJy"
      },
      "source": [
        "3 -Write a function to prompt for a score between 0.0 and 1.0.\n",
        "\n",
        "    If the score is out of range, print an error.\n",
        "    If the score is between 0.0 and 1.0, print a grade using the following table:\n",
        "    Score Grade\n",
        "             Score\tGrade\n",
        "            >= 0.9\tA\n",
        "            >= 0.8\tB\n",
        "            >= 0.7\tC\n",
        "            >= 0.6\tD\n",
        "             < 0.6\tF\n",
        "If the user enters a value out of range, print a suitable error message and exit. For the test, enter a score of 0.85."
      ]
    },
    {
      "cell_type": "code",
      "metadata": {
        "id": "6DLbGe6XXZPx",
        "outputId": "aaa6791c-012b-40f5-fb56-b56281f012af",
        "colab": {
          "base_uri": "https://localhost:8080/"
        }
      },
      "source": [
        "a=float(input(\"Enter Grade :\"))\n",
        "if(a>=0.0)and(a<=1.0):\n",
        "  if(a<0.6):\n",
        "    print(\"Grade F\")\n",
        "  elif(a>=0.6)and(a<0.7):\n",
        "    print(\"Grade D\")\n",
        "  elif(a>=0.7)and(a<0.8):\n",
        "    print(\"Grade C\")\n",
        "  elif(a>=0.8)and(a<0.9):\n",
        "    print(\"Grade B\")\n",
        "  else:\n",
        "    print(\"Grade A\")\n",
        "else:\n",
        "  print(\"Invalid Input\")\n"
      ],
      "execution_count": 11,
      "outputs": [
        {
          "output_type": "stream",
          "name": "stdout",
          "text": [
            "Enter Grade :0.85\n",
            "Grade B\n"
          ]
        }
      ]
    },
    {
      "cell_type": "markdown",
      "metadata": {
        "id": "-o0scDq7WkVT"
      },
      "source": []
    }
  ]
}