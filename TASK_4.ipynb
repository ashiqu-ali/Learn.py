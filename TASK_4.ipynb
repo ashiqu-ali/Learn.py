{
  "nbformat": 4,
  "nbformat_minor": 0,
  "metadata": {
    "colab": {
      "provenance": [],
      "include_colab_link": true
    },
    "kernelspec": {
      "name": "python3",
      "display_name": "Python 3"
    },
    "language_info": {
      "name": "python"
    }
  },
  "cells": [
    {
      "cell_type": "markdown",
      "metadata": {
        "id": "view-in-github",
        "colab_type": "text"
      },
      "source": [
        "<a href=\"https://colab.research.google.com/github/ashiqu-ali/Learn.py/blob/main/TASK_4.ipynb\" target=\"_parent\"><img src=\"https://colab.research.google.com/assets/colab-badge.svg\" alt=\"Open In Colab\"/></a>"
      ]
    },
    {
      "cell_type": "markdown",
      "metadata": {
        "id": "jhLooYoXnjso"
      },
      "source": [
        "1. Create a dictionary that contains \n",
        "            name = Alex Ryder\n",
        "            age  = 28\n",
        "Update the age to 32 and another element to the dictionary\n",
        "            age = 32\n",
        "            town = calicut\n",
        "Expected output\n",
        "            {'name': 'Alex Ryder', 'age': 32, 'town': 'calicut'}"
      ]
    },
    {
      "cell_type": "code",
      "metadata": {
        "id": "EE8jp4PMpp4Q",
        "colab": {
          "base_uri": "https://localhost:8080/"
        },
        "outputId": "db041f08-90ce-4526-b63d-393fce3d67e3"
      },
      "source": [
        "my_dict = { \"name\": \"Alex\", \"age\": 28 }\n",
        "print(my_dict)\n",
        "my_dict.update({\"age\":32, \"town\":\"Calicut\"})\n",
        "print(my_dict)\n"
      ],
      "execution_count": 2,
      "outputs": [
        {
          "output_type": "stream",
          "name": "stdout",
          "text": [
            "{'name': 'Alex', 'age': 28}\n",
            "{'name': 'Alex', 'age': 32, 'town': 'Calicut'}\n"
          ]
        }
      ]
    },
    {
      "cell_type": "markdown",
      "metadata": {
        "id": "nM1kmYmKqFwT"
      },
      "source": [
        "2. Create a dictionary containing the squares of numbers from 1 to 5.\n",
        "Expected output\n",
        "            {1: 1, 2: 4, 3: 9, 4: 16, 5: 15}\n",
        "\n",
        "From this dictionary remove the item 3 and its square.\n",
        "\n",
        "Expected output\n",
        "                    \n",
        "                {1: 1, 2: 4, 4: 16, 5: 15}\n",
        "\n",
        "Now remove all items from the dictionary.\n",
        "\n",
        "Expected output\n",
        "\n",
        "      {}\n",
        "\n",
        "Now delete the dictionary itself.\n",
        "\n",
        "          "
      ]
    },
    {
      "cell_type": "code",
      "metadata": {
        "id": "VL312SCHygzS",
        "colab": {
          "base_uri": "https://localhost:8080/"
        },
        "outputId": "29b0f1f8-9110-40fb-de94-0e0f7b85f1ad"
      },
      "source": [
        "squares = {i: i**2 for i in range(1,6)}\n",
        "print(squares)\n",
        "del squares[3]\n",
        "print(squares)\n",
        "squares.clear()\n",
        "print(squares)"
      ],
      "execution_count": 6,
      "outputs": [
        {
          "output_type": "stream",
          "name": "stdout",
          "text": [
            "{1: 1, 2: 4, 3: 9, 4: 16, 5: 25}\n",
            "{1: 1, 2: 4, 4: 16, 5: 25}\n",
            "{}\n"
          ]
        }
      ]
    },
    {
      "cell_type": "markdown",
      "metadata": {
        "id": "GaJF8GEPzDQN"
      },
      "source": [
        "3. Make a set containing the elements 1, hello, (0,1,2).\n",
        "\n",
        "Expected output\n",
        "            \n",
        "            {'hello', 1, (0, 1, 2)}\n",
        "\n",
        "Now add the value 6 to the set.\n",
        "\n",
        "Expected output\n",
        "\n",
        "        {'hello', 1, (0, 1, 2), 6}\n",
        "\n",
        "\n",
        "\n"
      ]
    },
    {
      "cell_type": "code",
      "metadata": {
        "id": "RlKGp2E31rZB",
        "colab": {
          "base_uri": "https://localhost:8080/"
        },
        "outputId": "bb47304c-e8e7-4dbe-acf9-4e128ace1ed7"
      },
      "source": [
        "sample = {'hello', 1, (0, 1, 2)}\n",
        "print(sample)\n",
        "sample.add(6)\n",
        "print(sample)"
      ],
      "execution_count": 13,
      "outputs": [
        {
          "output_type": "stream",
          "name": "stdout",
          "text": [
            "{(0, 1, 2), 1, 'hello'}\n",
            "{(0, 1, 2), 1, 'hello', 6}\n"
          ]
        }
      ]
    }
  ]
}