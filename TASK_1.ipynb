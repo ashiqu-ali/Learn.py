{
  "nbformat": 4,
  "nbformat_minor": 0,
  "metadata": {
    "colab": {
      "name": "TASK 1",
      "provenance": [],
      "include_colab_link": true
    },
    "kernelspec": {
      "name": "python3",
      "display_name": "Python 3"
    },
    "language_info": {
      "name": "python"
    }
  },
  "cells": [
    {
      "cell_type": "markdown",
      "metadata": {
        "id": "view-in-github",
        "colab_type": "text"
      },
      "source": [
        "<a href=\"https://colab.research.google.com/github/ashiqu-ali/Learn.py/blob/main/TASK_1.ipynb\" target=\"_parent\"><img src=\"https://colab.research.google.com/assets/colab-badge.svg\" alt=\"Open In Colab\"/></a>"
      ]
    },
    {
      "cell_type": "markdown",
      "metadata": {
        "id": "q-yWxfWESiQo"
      },
      "source": [
        "1.Write a program that uses input to prompt a user for their name and then welcomes them."
      ]
    },
    {
      "cell_type": "code",
      "metadata": {
        "id": "9ikpRxqMSxu0",
        "outputId": "443e9a16-8fc9-4c66-9723-fc03871edd11",
        "colab": {
          "base_uri": "https://localhost:8080/"
        }
      },
      "source": [
        "n=str(input(\"Enter your Name :\"))\n",
        "print(\"welcome to python\", n)\n"
      ],
      "execution_count": 1,
      "outputs": [
        {
          "output_type": "stream",
          "text": [
            "Enter your Name :john\n",
            "welcome to python john\n"
          ],
          "name": "stdout"
        }
      ]
    },
    {
      "cell_type": "markdown",
      "metadata": {
        "id": "Ay5OdxguS-2Z"
      },
      "source": [
        "2.Write a program which prompts the user for a Celsius temperature, convert the temperature to Fahrenheit, and print out the converted temperature."
      ]
    },
    {
      "cell_type": "code",
      "metadata": {
        "id": "MMv2yWNtTgEu",
        "outputId": "ea2ab7b5-0ebe-47c2-b777-69dbb6822e41",
        "colab": {
          "base_uri": "https://localhost:8080/"
        }
      },
      "source": [
        "c=float(input(\"Enter temprature in celsius :\"))\n",
        "f=((c*1.8)+32)\n",
        "print (f)\n"
      ],
      "execution_count": 2,
      "outputs": [
        {
          "output_type": "stream",
          "text": [
            "Enter temprature in celsius :15\n",
            "59.0\n"
          ],
          "name": "stdout"
        }
      ]
    },
    {
      "cell_type": "markdown",
      "metadata": {
        "id": "v6O1a198TpNd"
      },
      "source": [
        "3.Write a Python program to convert degree to radian."
      ]
    },
    {
      "cell_type": "code",
      "metadata": {
        "id": "27Jj4_D0UQBA",
        "outputId": "052b48b2-cc1f-405e-8129-c96568d0eaff",
        "colab": {
          "base_uri": "https://localhost:8080/"
        }
      },
      "source": [
        "d=float(input(\"Enter degree :\"))\n",
        "r=(d*0.01745)\n",
        "print (r)\n"
      ],
      "execution_count": 3,
      "outputs": [
        {
          "output_type": "stream",
          "text": [
            "Enter degree :180\n",
            "3.141\n"
          ],
          "name": "stdout"
        }
      ]
    }
  ]
}